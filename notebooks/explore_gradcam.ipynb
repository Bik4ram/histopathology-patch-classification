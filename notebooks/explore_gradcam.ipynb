# Jupyter Notebook: Interactive Grad-CAM Exploration

import torch
from model import get_model
from gradcam import show_gradcam_on_image
from IPython.display import display
import ipywidgets as widgets

model_name = 'resnet18'
weights_path = '../runs/best_model.pth'
device = torch.device('cuda' if torch.cuda.is_available() else 'cpu')
model = get_model(model_name).to(device)
model.load_state_dict(torch.load(weights_path, map_location=device))
target_layer = model.layer4[-1]

img_path_widget = widgets.Text(value='../data/benign/img1.png', description='Image Path:')
run_button = widgets.Button(description='Run Grad-CAM')

def run_gradcam(b):
    show_gradcam_on_image(img_path_widget.value, model, target_layer, device)

run_button.on_click(run_gradcam)
display(img_path_widget, run_button)
